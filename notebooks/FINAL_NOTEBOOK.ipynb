{
 "cells": [
  {
   "cell_type": "code",
   "execution_count": null,
   "metadata": {},
   "outputs": [],
   "source": [
    "'''Jonathan Zhang | Keshan Chen'''"
   ]
  },
  {
   "cell_type": "markdown",
   "metadata": {},
   "source": [
    "#  FINAL Report:"
   ]
  },
  {
   "cell_type": "markdown",
   "metadata": {},
   "source": [
    "Problem to investigate:\n",
    "    - \"What parameters can help with battery health related issues?\"\n",
    "\n",
    "Based on observing and exploring the data/samples collected from the Battery DLL file, we found some parameters that we believe can influence battery health substantially from Checkpoint #1. \n",
    "\n",
    "- ACPI-BATTERY(1) - # of batteries detected \n",
    "- ACPI-BATTERY(2) - Battery life %\n",
    "- ACPI-BATTERY(6) - Chemistry\n",
    "- ACPI-BATTERY(7) - Estimated runtime (s)\n",
    "- ACPI-BATTERY(8) - Charge discharge rate\n",
    "- ACPI-BATTERY(10) - Full charge capacity\n",
    "\n",
    "In Checkpoint #2, we created a new IL which could collect the battery related data. The API that we use is GetSystemPowerStatus function from Microsoft which could help us to collect data that we need, and the template that we use for generating IL is the static_standard_input template from the XLSDK guidebook. Then using \"ESRV --device_control collect drivers\" on the command line to run the whole solution file and get four types of data. \n",
    "   \n",
    "- (0) AC Status: 0 if the power is offline; 1 if the power is online; 255 if the status is unknown\n",
    "\n",
    "- (1) Battery Life Percentage: The percentage of fully battery charge remaining(from 0 to 100, or 255 if status is unknown)\n",
    "\n",
    "- (2) System Status Flag: 0 if the battery saver is off; 1 if the battery saver is on\n",
    "\n",
    "- (3) Battery Life Time: Number of seconds of battery life remaining; or -1 if full battery lifetime is unknown or the device is connected to AC power\n",
    "    - [The descriptions above are from: https://docs.microsoft.com/en-us/windows/win32/api/winbase/ns-winbase-system_power_statushttps://docs.microsoft.com/en-us/windows/win32/api/winbase/ns-winbase-system_power_status]\n",
    "    \n",
    "\n",
    "We are primarily choosing to focus on these 4 parameters because we believe the answer to our problem, \"what parameters can help with battery health related issues,\" lies within a relationship between one of these parameters. A good start off point we found in exploring the data was finding the min, max, and mean of our battery life percentages along with the battery life-time data. By including the AC Status, we can analyze changes of Battery Life Percentage while the computer is charging as well as when the computer power shut off. We'll import some figures representing the changes in the following exploration of data. \n",
    "\n",
    "We plan on defining getter methods, i.e. get_max_battery(), get_min_battery(), get_mean_battery(), etc... and to have all of these methods be called in the script file, run.py. Prior to running all of these methods for our target (Battery), we are going to ensure that we don't version control our data and therefore have the repository run through the database and potentially collect data for user on command--all which will be done by finding Python packages to run the \"go.bat\" file.\n",
    "\n",
    "The output of running the dll that we created is a database file and we store that into our data directory. After collecting the data and getting the db file, we extract the counters_ull_time_data.csv from the db file and this csv file contains all the values of four types of data that we need. This report focuses on the data analysis of counters_ull_time_data.csv. \n"
   ]
  },
  {
   "cell_type": "markdown",
   "metadata": {},
   "source": [
    "# FINAL Code:"
   ]
  },
  {
   "cell_type": "markdown",
   "metadata": {},
   "source": [
    "   ### COUNTERS_ULL_TIME_DATA.csv   --  Data Analysis"
   ]
  },
  {
   "cell_type": "code",
   "execution_count": 2,
   "metadata": {},
   "outputs": [],
   "source": [
    "import numpy as np\n",
    "import pandas as pd\n",
    "import matplotlib.pyplot as plt"
   ]
  },
  {
   "cell_type": "code",
   "execution_count": 3,
   "metadata": {},
   "outputs": [],
   "source": [
    "def parse_data(fname):\n",
    "    \"\"\"\n",
    "    This method reads a .csv file and makes it into a dataframe.\n",
    "    :fname:\n",
    "    ::returns DataFrame Object\n",
    "    \"\"\"\n",
    "    return pd.read_csv(fname)"
   ]
  },
  {
   "cell_type": "code",
   "execution_count": 4,
   "metadata": {},
   "outputs": [],
   "source": [
    "# Data for BATTERY\n",
    "data = parse_data(\"../data/temp/counters_ull_time_data.csv\")"
   ]
  },
  {
   "cell_type": "code",
   "execution_count": 5,
   "metadata": {
    "scrolled": true
   },
   "outputs": [
    {
     "data": {
      "text/plain": [
       "3    5157\n",
       "2    5157\n",
       "1    5157\n",
       "0    5157\n",
       "Name: ID_INPUT, dtype: int64"
      ]
     },
     "execution_count": 5,
     "metadata": {},
     "output_type": "execute_result"
    }
   ],
   "source": [
    "# Data Demographic\n",
    "data['ID_INPUT'].value_counts()"
   ]
  },
  {
   "cell_type": "code",
   "execution_count": 6,
   "metadata": {},
   "outputs": [
    {
     "data": {
      "text/html": [
       "<div>\n",
       "<style scoped>\n",
       "    .dataframe tbody tr th:only-of-type {\n",
       "        vertical-align: middle;\n",
       "    }\n",
       "\n",
       "    .dataframe tbody tr th {\n",
       "        vertical-align: top;\n",
       "    }\n",
       "\n",
       "    .dataframe thead th {\n",
       "        text-align: right;\n",
       "    }\n",
       "</style>\n",
       "<table border=\"1\" class=\"dataframe\">\n",
       "  <thead>\n",
       "    <tr style=\"text-align: right;\">\n",
       "      <th></th>\n",
       "      <th>MEASUREMENT_TIME</th>\n",
       "      <th>ID_INPUT</th>\n",
       "      <th>VALUE</th>\n",
       "      <th>PRIVATE_DATA</th>\n",
       "    </tr>\n",
       "  </thead>\n",
       "  <tbody>\n",
       "    <tr>\n",
       "      <th>0</th>\n",
       "      <td>2020-11-21 00:49:47.838</td>\n",
       "      <td>0</td>\n",
       "      <td>1</td>\n",
       "      <td>0</td>\n",
       "    </tr>\n",
       "    <tr>\n",
       "      <th>1</th>\n",
       "      <td>2020-11-21 00:49:47.838</td>\n",
       "      <td>1</td>\n",
       "      <td>94</td>\n",
       "      <td>0</td>\n",
       "    </tr>\n",
       "    <tr>\n",
       "      <th>2</th>\n",
       "      <td>2020-11-21 00:49:47.838</td>\n",
       "      <td>2</td>\n",
       "      <td>0</td>\n",
       "      <td>0</td>\n",
       "    </tr>\n",
       "    <tr>\n",
       "      <th>3</th>\n",
       "      <td>2020-11-21 00:49:47.838</td>\n",
       "      <td>3</td>\n",
       "      <td>4294967295</td>\n",
       "      <td>0</td>\n",
       "    </tr>\n",
       "    <tr>\n",
       "      <th>4</th>\n",
       "      <td>2020-11-21 00:49:48.838</td>\n",
       "      <td>0</td>\n",
       "      <td>1</td>\n",
       "      <td>0</td>\n",
       "    </tr>\n",
       "  </tbody>\n",
       "</table>\n",
       "</div>"
      ],
      "text/plain": [
       "          MEASUREMENT_TIME  ID_INPUT       VALUE  PRIVATE_DATA\n",
       "0  2020-11-21 00:49:47.838         0           1             0\n",
       "1  2020-11-21 00:49:47.838         1          94             0\n",
       "2  2020-11-21 00:49:47.838         2           0             0\n",
       "3  2020-11-21 00:49:47.838         3  4294967295             0\n",
       "4  2020-11-21 00:49:48.838         0           1             0"
      ]
     },
     "execution_count": 6,
     "metadata": {},
     "output_type": "execute_result"
    }
   ],
   "source": [
    "data.head()"
   ]
  },
  {
   "cell_type": "markdown",
   "metadata": {},
   "source": [
    "### Cleaning | Organizing Our Data\n",
    "\n",
    "Since the data that we collect includes all values in the same column, to make it more clear to see, we choose to separate the values based on the ID_input and put them in a same row if the measurement_time is the same. \n",
    "\n",
    "Also since we don't need the measurement time for our analysis, the new dataset does not include the measurement time column. "
   ]
  },
  {
   "cell_type": "code",
   "execution_count": 7,
   "metadata": {},
   "outputs": [],
   "source": [
    "ac_status = data.loc[(data['ID_INPUT'] == 0)].reset_index()\n",
    "battery_life = data.loc[(data['ID_INPUT'] == 1)].reset_index()\n",
    "battery_saver = data.loc[(data['ID_INPUT'] == 2)].reset_index()\n",
    "battery_time = data.loc[(data['ID_INPUT'] == 3)].reset_index()"
   ]
  },
  {
   "cell_type": "code",
   "execution_count": 8,
   "metadata": {},
   "outputs": [
    {
     "data": {
      "text/html": [
       "<div>\n",
       "<style scoped>\n",
       "    .dataframe tbody tr th:only-of-type {\n",
       "        vertical-align: middle;\n",
       "    }\n",
       "\n",
       "    .dataframe tbody tr th {\n",
       "        vertical-align: top;\n",
       "    }\n",
       "\n",
       "    .dataframe thead th {\n",
       "        text-align: right;\n",
       "    }\n",
       "</style>\n",
       "<table border=\"1\" class=\"dataframe\">\n",
       "  <thead>\n",
       "    <tr style=\"text-align: right;\">\n",
       "      <th></th>\n",
       "      <th>AC</th>\n",
       "      <th>Battery_life(%)</th>\n",
       "      <th>Battery_saver</th>\n",
       "      <th>Battery_time(seconds)</th>\n",
       "    </tr>\n",
       "  </thead>\n",
       "  <tbody>\n",
       "    <tr>\n",
       "      <th>0</th>\n",
       "      <td>1</td>\n",
       "      <td>94</td>\n",
       "      <td>0</td>\n",
       "      <td>4294967295</td>\n",
       "    </tr>\n",
       "    <tr>\n",
       "      <th>1</th>\n",
       "      <td>1</td>\n",
       "      <td>94</td>\n",
       "      <td>0</td>\n",
       "      <td>4294967295</td>\n",
       "    </tr>\n",
       "    <tr>\n",
       "      <th>2</th>\n",
       "      <td>1</td>\n",
       "      <td>94</td>\n",
       "      <td>0</td>\n",
       "      <td>4294967295</td>\n",
       "    </tr>\n",
       "    <tr>\n",
       "      <th>3</th>\n",
       "      <td>1</td>\n",
       "      <td>94</td>\n",
       "      <td>0</td>\n",
       "      <td>4294967295</td>\n",
       "    </tr>\n",
       "    <tr>\n",
       "      <th>4</th>\n",
       "      <td>1</td>\n",
       "      <td>94</td>\n",
       "      <td>0</td>\n",
       "      <td>4294967295</td>\n",
       "    </tr>\n",
       "  </tbody>\n",
       "</table>\n",
       "</div>"
      ],
      "text/plain": [
       "   AC  Battery_life(%)  Battery_saver  Battery_time(seconds)\n",
       "0   1               94              0             4294967295\n",
       "1   1               94              0             4294967295\n",
       "2   1               94              0             4294967295\n",
       "3   1               94              0             4294967295\n",
       "4   1               94              0             4294967295"
      ]
     },
     "execution_count": 8,
     "metadata": {},
     "output_type": "execute_result"
    }
   ],
   "source": [
    "d = {'AC': ac_status['VALUE'], 'Battery_life(%)': battery_life['VALUE'],\n",
    "    'Battery_saver': battery_saver['VALUE'], 'Battery_time(seconds)': battery_time['VALUE']}\n",
    "\n",
    "new_data = pd.DataFrame(data = d)\n",
    "new_data.head()"
   ]
  },
  {
   "cell_type": "code",
   "execution_count": 9,
   "metadata": {},
   "outputs": [
    {
     "data": {
      "text/plain": [
       "0       4294967295\n",
       "1       4294967295\n",
       "2       4294967295\n",
       "3       4294967295\n",
       "4       4294967295\n",
       "           ...    \n",
       "5152    4294967295\n",
       "5153    4294967295\n",
       "5154    4294967295\n",
       "5155    4294967295\n",
       "5156    4294967295\n",
       "Name: Battery_time(seconds), Length: 5157, dtype: int64"
      ]
     },
     "execution_count": 9,
     "metadata": {},
     "output_type": "execute_result"
    }
   ],
   "source": [
    "new_data['Battery_time(seconds)']"
   ]
  },
  {
   "cell_type": "code",
   "execution_count": 10,
   "metadata": {},
   "outputs": [
    {
     "data": {
      "text/plain": [
       "array([0], dtype=int64)"
      ]
     },
     "execution_count": 10,
     "metadata": {},
     "output_type": "execute_result"
    }
   ],
   "source": [
    "battery_saver['VALUE'].unique()"
   ]
  },
  {
   "cell_type": "markdown",
   "metadata": {},
   "source": [
    "### Defining a Methods for Data Analysis"
   ]
  },
  {
   "cell_type": "code",
   "execution_count": 11,
   "metadata": {},
   "outputs": [],
   "source": [
    "def get_max_battery(data, column, value):\n",
    "    \"\"\"\n",
    "    This method finds the max battery life %.\n",
    "    :column:\n",
    "    :value:\n",
    "    ::return Integer -- max value\n",
    "    \"\"\"\n",
    "    return data.loc[(data[column] == value)].max()\n",
    "\n",
    "def get_min_battery(data, column, value):\n",
    "    \"\"\"\n",
    "    This method finds the min battery life %\n",
    "    :column:\n",
    "    :value:\n",
    "    ::return Integer -- min value\n",
    "    \"\"\"\n",
    "    return data.loc[(data[column] == value)].min()\n",
    "\n",
    "def get_mean_battery(data, column, value):\n",
    "    \"\"\"\n",
    "    This method finds the mean battery life %\n",
    "    :column:\n",
    "    :value:\n",
    "    ::return Integer -- average value\n",
    "    \"\"\"\n",
    "    return data.loc[(data[column] == value)].mean()"
   ]
  },
  {
   "cell_type": "code",
   "execution_count": 12,
   "metadata": {},
   "outputs": [
    {
     "name": "stdout",
     "output_type": "stream",
     "text": [
      "MEASUREMENT_TIME    2020-11-21 02:17:51.714\n",
      "ID_INPUT                                  1\n",
      "VALUE                                    96\n",
      "PRIVATE_DATA                              0\n",
      "dtype: object\n",
      " \n",
      "Here is the max value of our battery life %: 96%\n"
     ]
    }
   ],
   "source": [
    "print(get_max_battery(data, \"ID_INPUT\", 1))\n",
    "print(\" \")\n",
    "print(\"Here is the max value of our battery life %: 96%\")"
   ]
  },
  {
   "cell_type": "code",
   "execution_count": 13,
   "metadata": {},
   "outputs": [
    {
     "name": "stdout",
     "output_type": "stream",
     "text": [
      "MEASUREMENT_TIME    2020-11-21 00:49:47.838\n",
      "ID_INPUT                                  1\n",
      "VALUE                                    61\n",
      "PRIVATE_DATA                              0\n",
      "dtype: object\n",
      " \n",
      "Here is the min value of our battery life %: 61%\n"
     ]
    }
   ],
   "source": [
    "print(get_min_battery(data, \"ID_INPUT\", 1))\n",
    "print(\" \")\n",
    "print(\"Here is the min value of our battery life %: 61%\")"
   ]
  },
  {
   "cell_type": "code",
   "execution_count": 14,
   "metadata": {},
   "outputs": [
    {
     "name": "stdout",
     "output_type": "stream",
     "text": [
      "ID_INPUT         1.000000\n",
      "VALUE           76.273803\n",
      "PRIVATE_DATA     0.000000\n",
      "dtype: float64\n",
      " \n",
      "Here is the mean value of our battery life %: 76.27%\n"
     ]
    }
   ],
   "source": [
    "print(get_mean_battery(data, \"ID_INPUT\", 1))\n",
    "print(\" \")\n",
    "print(\"Here is the mean value of our battery life %: 76.27%\")"
   ]
  },
  {
   "cell_type": "markdown",
   "metadata": {},
   "source": [
    "### COUNTERS_ULL_TIME_DATA.csv -- Graphical Analysis"
   ]
  },
  {
   "cell_type": "markdown",
   "metadata": {},
   "source": [
    "For more clear to see the changes of battery_life value and AC Status, we plot two figures to represent the changes for each type of input data. Since values of battery_saver are all 0s which means the battery saver was not on during the process of collecting the data, we don't need to do analysis for this input.  Also since the values of battery life time are too big to show on the same figure standard, we don't include the battery life time values in the figures. "
   ]
  },
  {
   "cell_type": "code",
   "execution_count": 17,
   "metadata": {},
   "outputs": [
    {
     "data": {
      "image/png": "[encoded data removed]",
      "text/plain": [
       "<Figure size 432x288 with 1 Axes>"
      ]
     },
     "metadata": {
      "needs_background": "light"
     },
     "output_type": "display_data"
    },
    {
     "data": {
      "image/png": "[encoded data removed]",
      "text/plain": [
       "<Figure size 432x288 with 1 Axes>"
      ]
     },
     "metadata": {
      "needs_background": "light"
     },
     "output_type": "display_data"
    }
   ],
   "source": [
    "x = list(new_data.index)\n",
    "y_1 = new_data['Battery_life(%)']\n",
    "plt.figure(1)\n",
    "plt.plot(x,y_1)\n",
    "plt.title('Changes of battery_life(%)')\n",
    "plt.xlabel('index')\n",
    "plt.ylabel('battery_life(%)')\n",
    "\n",
    "plt.figure(2)\n",
    "y_2 = new_data['AC']\n",
    "plt.plot(x,y_2)\n",
    "plt.title('Changes of AC Status')\n",
    "plt.xlabel('index')\n",
    "plt.ylabel('Ac Status')\n",
    "\n",
    "plt.show()"
   ]
  },
  {
   "cell_type": "markdown",
   "metadata": {},
   "source": [
    "As we can see from the above figure, the battery_life was increasing then decreasing and then increasing, and the AC Status is changes from 1 to 0 and then from 0 to 1. \n",
    "\n",
    "The reason of those changes is that when we collected the data, at first we connected the AC power, so in the first part of changes, we can see that the values of battery_life status increasing and the values of AC status are equal to 1. Then we diconnected the AC power for a longer time, in this case we can see that the battery_life values status decreasing and the values of AC power are all equal to 0. After that, we reconnected the AC power and then we can see the values of battery_life is increasing and the values of AC status are equal to 1. \n",
    "\n",
    "One more thing that we found on the battery_life figures is that the slope of decreasing part is smaller than the increasing part. We can say that the battery_life has a more rapid change when the computer is connected to the AC Power. But our conclusion here might be lack of analysis since the battery_life is also related to the applications running on the computer when collect the data. \n"
   ]
  },
  {
   "cell_type": "markdown",
   "metadata": {},
   "source": [
    "# Contributions"
   ]
  },
  {
   "cell_type": "markdown",
   "metadata": {},
   "source": [
    "Keshan:\n",
    "    - data preparation\n",
    "    - tabled data\n",
    "    - key notes all throughout notebook\n",
    "    - graphs + graph analysis\n",
    "Jon:\n",
    "    - Report + main ideas\n",
    "    - data analysis - code breakdown\n",
    "    - repository structuring\n",
    "    - notebook outlining"
   ]
  }
 ],
 "metadata": {
  "kernelspec": {
   "display_name": "Python 3",
   "language": "python",
   "name": "python3"
  },
  "language_info": {
   "codemirror_mode": {
    "name": "ipython",
    "version": 3
   },
   "file_extension": ".py",
   "mimetype": "text/x-python",
   "name": "python",
   "nbconvert_exporter": "python",
   "pygments_lexer": "ipython3",
   "version": "3.8.1"
  }
 },
 "nbformat": 4,
 "nbformat_minor": 4
}
