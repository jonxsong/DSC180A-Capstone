{
 "cells": [
  {
   "cell_type": "code",
   "execution_count": null,
   "metadata": {},
   "outputs": [],
   "source": [
    "'''Jonathan Zhang'''"
   ]
  },
  {
   "cell_type": "markdown",
   "metadata": {},
   "source": [
    "#  Checkpoint #1 Report:"
   ]
  },
  {
   "cell_type": "markdown",
   "metadata": {},
   "source": [
    "Could not figure out how to make run.py run all my tests for Battery and Device Use.\n",
    "\n",
    "Thought to compile an encompassing notebook to show you the data analysis we performed. Thank you!"
   ]
  },
  {
   "cell_type": "markdown",
   "metadata": {},
   "source": [
    "Problem to investigate:\n",
    "    - \"What parameters can help with battery health related issues?\"\n",
    "\n",
    "Based on the data/samples collected from the Battery DLL file, we found some parameters \n",
    "that we believe can influence battery health substantially. \n",
    "\n",
    "- ACPI-BATTERY(1) - # of batteries detected \n",
    "- ACPI-BATTERY(2) - Battery life %\n",
    "- ACPI-BATTERY(6) - Chemistry\n",
    "- ACPI-BATTERY(7) - Estimated runtime (s)\n",
    "- ACPI-BATTERY(8) - Charge discharge rate\n",
    "- ACPI-BATTERY(10) - Full charge capacity\n",
    "\n",
    "In our subject domain, we utilize Intel's SDK (software development kit) for data collection. In doing so, we use their input libraries to extrapolate data from our computer's user wait time, processes, device and battery usage, specifically BATTERY and DEVICE USE.\n",
    "\n",
    "In order to generate the data we needed to accomplish the tasks at hand, specifically performing data analysis on Battery and Device Use, we needed to use Intel's ESRV process which essentially gave us all the data we needed from our own computers. The output database file contained the timestamp at which the battery life was at a certain percentage, along with other various statistics and characteristics of our battery. We believe that in analyzing the parameters above, we can substantiate findings to see whether or not we can prolong battery life.\n"
   ]
  },
  {
   "cell_type": "markdown",
   "metadata": {},
   "source": [
    "# Checkpoint #1 Code for BATTERY:\n"
   ]
  },
  {
   "cell_type": "markdown",
   "metadata": {},
   "source": [
    "#  Imports"
   ]
  },
  {
   "cell_type": "code",
   "execution_count": 2,
   "metadata": {},
   "outputs": [],
   "source": [
    "import numpy as np\n",
    "import pandas as pd"
   ]
  },
  {
   "cell_type": "markdown",
   "metadata": {},
   "source": [
    "# Data Preparation"
   ]
  },
  {
   "cell_type": "code",
   "execution_count": 3,
   "metadata": {},
   "outputs": [],
   "source": [
    "# Data for BATTERY\n",
    "data = pd.read_csv(\"../data/temp/counters_ull_time_data.csv\")\n",
    "data_2 = pd.read_csv(\"../data/temp/counters_double.csv\")\n",
    "\n",
    "# Data for DEVICE USE\n",
    "du_data = pd.read_csv(\"../data/temp/du_counters_ull_time_data.csv\")\n",
    "du_data_2 = pd.read_csv(\"../data/temp/du_counters_string_time_data.csv\")"
   ]
  },
  {
   "cell_type": "markdown",
   "metadata": {},
   "source": [
    "# COUNTERS_ULL_TIME_DATA.csv   --  Data Analysis"
   ]
  },
  {
   "cell_type": "code",
   "execution_count": 4,
   "metadata": {
    "scrolled": true
   },
   "outputs": [
    {
     "data": {
      "text/plain": [
       "6    1403\n",
       "2      38\n",
       "9       1\n",
       "8       1\n",
       "3       1\n",
       "1       1\n",
       "0       1\n",
       "Name: ID_INPUT, dtype: int64"
      ]
     },
     "execution_count": 4,
     "metadata": {},
     "output_type": "execute_result"
    }
   ],
   "source": [
    "# Data Demographic\n",
    "    # 0 : ACDC\n",
    "    # 1 : BATTERY COUNT\n",
    "    # 2 : BATTERY LIFE\n",
    "    # 3 : CAPABILITIES\n",
    "    # 6 : ESTIMATED RUN TIME\n",
    "    # 8 : THEORETICAL CAPACITY\n",
    "    # 9 : FULL_CHARGE_CAPACITY\n",
    "data['ID_INPUT'].value_counts()"
   ]
  },
  {
   "cell_type": "markdown",
   "metadata": {},
   "source": [
    "#### We think that the battery life(%) is an important parameter for we to investigate our question. Since the ID input of battery_life is 2, we will let the ID_INPUT equal to 2 and analyze the output."
   ]
  },
  {
   "cell_type": "code",
   "execution_count": 5,
   "metadata": {},
   "outputs": [],
   "source": [
    "# All the \"VALUE(s)\" presented when ID_INPUT is 2.\n",
    "battery_life = data.loc[(data['ID_INPUT'] == 2)]"
   ]
  },
  {
   "cell_type": "code",
   "execution_count": 6,
   "metadata": {},
   "outputs": [
    {
     "data": {
      "text/html": [
       "<div>\n",
       "<style scoped>\n",
       "    .dataframe tbody tr th:only-of-type {\n",
       "        vertical-align: middle;\n",
       "    }\n",
       "\n",
       "    .dataframe tbody tr th {\n",
       "        vertical-align: top;\n",
       "    }\n",
       "\n",
       "    .dataframe thead th {\n",
       "        text-align: right;\n",
       "    }\n",
       "</style>\n",
       "<table border=\"1\" class=\"dataframe\">\n",
       "  <thead>\n",
       "    <tr style=\"text-align: right;\">\n",
       "      <th></th>\n",
       "      <th>MEASUREMENT_TIME</th>\n",
       "      <th>ID_INPUT</th>\n",
       "      <th>VALUE</th>\n",
       "      <th>PRIVATE_DATA</th>\n",
       "    </tr>\n",
       "  </thead>\n",
       "  <tbody>\n",
       "    <tr>\n",
       "      <th>2</th>\n",
       "      <td>2020-11-07 00:51:22.229</td>\n",
       "      <td>2</td>\n",
       "      <td>63</td>\n",
       "      <td>0</td>\n",
       "    </tr>\n",
       "    <tr>\n",
       "      <th>34</th>\n",
       "      <td>2020-11-07 00:52:17.208</td>\n",
       "      <td>2</td>\n",
       "      <td>62</td>\n",
       "      <td>0</td>\n",
       "    </tr>\n",
       "    <tr>\n",
       "      <th>72</th>\n",
       "      <td>2020-11-07 00:53:43.188</td>\n",
       "      <td>2</td>\n",
       "      <td>61</td>\n",
       "      <td>0</td>\n",
       "    </tr>\n",
       "    <tr>\n",
       "      <th>111</th>\n",
       "      <td>2020-11-07 00:55:07.162</td>\n",
       "      <td>2</td>\n",
       "      <td>60</td>\n",
       "      <td>0</td>\n",
       "    </tr>\n",
       "    <tr>\n",
       "      <th>142</th>\n",
       "      <td>2020-11-07 00:56:17.142</td>\n",
       "      <td>2</td>\n",
       "      <td>59</td>\n",
       "      <td>0</td>\n",
       "    </tr>\n",
       "  </tbody>\n",
       "</table>\n",
       "</div>"
      ],
      "text/plain": [
       "            MEASUREMENT_TIME  ID_INPUT  VALUE  PRIVATE_DATA\n",
       "2    2020-11-07 00:51:22.229         2     63             0\n",
       "34   2020-11-07 00:52:17.208         2     62             0\n",
       "72   2020-11-07 00:53:43.188         2     61             0\n",
       "111  2020-11-07 00:55:07.162         2     60             0\n",
       "142  2020-11-07 00:56:17.142         2     59             0"
      ]
     },
     "execution_count": 6,
     "metadata": {},
     "output_type": "execute_result"
    }
   ],
   "source": [
    "battery_life.head()"
   ]
  },
  {
   "cell_type": "markdown",
   "metadata": {},
   "source": [
    "#### For more clear to see the change of battery_life value, we would use line chart and set the x-axis as time and y-axis as the value of battery_life"
   ]
  },
  {
   "cell_type": "code",
   "execution_count": 7,
   "metadata": {},
   "outputs": [],
   "source": [
    "import matplotlib.pyplot as plt"
   ]
  },
  {
   "cell_type": "code",
   "execution_count": 8,
   "metadata": {},
   "outputs": [
    {
     "data": {
      "image/png": "[encoded data removed]",
      "text/plain": [
       "<Figure size 432x288 with 1 Axes>"
      ]
     },
     "metadata": {
      "needs_background": "light"
     },
     "output_type": "display_data"
    }
   ],
   "source": [
    "x = battery_life['MEASUREMENT_TIME']\n",
    "y = battery_life['VALUE']\n",
    "plt.plot(x,y)\n",
    "plt.title('Changes of battery_life(%)')\n",
    "plt.xlabel('time')\n",
    "plt.ylabel('battery_life')\n",
    "plt.show()"
   ]
  },
  {
   "cell_type": "code",
   "execution_count": 9,
   "metadata": {},
   "outputs": [
    {
     "data": {
      "text/plain": [
       "MEASUREMENT_TIME    2020-11-07 01:44:36.204\n",
       "ID_INPUT                                  2\n",
       "VALUE                                    63\n",
       "PRIVATE_DATA                              0\n",
       "dtype: object"
      ]
     },
     "execution_count": 9,
     "metadata": {},
     "output_type": "execute_result"
    }
   ],
   "source": [
    "# Max value when ID_INPUT is 2\n",
    "data.loc[(data['ID_INPUT'] == 2)].max()"
   ]
  },
  {
   "cell_type": "code",
   "execution_count": 10,
   "metadata": {},
   "outputs": [
    {
     "data": {
      "text/plain": [
       "MEASUREMENT_TIME    2020-11-07 00:51:22.229\n",
       "ID_INPUT                                  2\n",
       "VALUE                                    26\n",
       "PRIVATE_DATA                              0\n",
       "dtype: object"
      ]
     },
     "execution_count": 10,
     "metadata": {},
     "output_type": "execute_result"
    }
   ],
   "source": [
    "# Min value when ID_INPUT is 2\n",
    "data.loc[(data['ID_INPUT'] == 2)].min()"
   ]
  },
  {
   "cell_type": "code",
   "execution_count": 11,
   "metadata": {},
   "outputs": [
    {
     "data": {
      "text/plain": [
       "ID_INPUT         2.0\n",
       "VALUE           44.5\n",
       "PRIVATE_DATA     0.0\n",
       "dtype: float64"
      ]
     },
     "execution_count": 11,
     "metadata": {},
     "output_type": "execute_result"
    }
   ],
   "source": [
    "# Average Battery Life % is 44.5%\n",
    "data.loc[(data['ID_INPUT'] == 2)].mean()"
   ]
  },
  {
   "cell_type": "markdown",
   "metadata": {},
   "source": [
    "#### Conclusion: As we can see from above dataset and line chart, the battery_life keeps decreasing for the whole collecting process. From the beginning, the battery_life is 63 which is the max value and then in the end, the battery_life decreased to 26 which is the min value. "
   ]
  },
  {
   "cell_type": "markdown",
   "metadata": {},
   "source": [
    "# COUNTERS_DOUBLE.csv   --  Data Analysis# "
   ]
  },
  {
   "cell_type": "markdown",
   "metadata": {},
   "source": [
    "### Now we are using counters_double dataset which contains charge_discharge_rate and system_power_in_dc. First we would analysis the charge_discharge_rate to see the changes of this parameter. "
   ]
  },
  {
   "cell_type": "code",
   "execution_count": 12,
   "metadata": {},
   "outputs": [
    {
     "data": {
      "text/plain": [
       "7     1388\n",
       "10     541\n",
       "Name: ID_INPUT, dtype: int64"
      ]
     },
     "execution_count": 12,
     "metadata": {},
     "output_type": "execute_result"
    }
   ],
   "source": [
    "# Data Demographic\n",
    "    # 7 : CHARGE_DISCHARGE_RATE\n",
    "    # 10 : SYSTEM_POWER_IN_DC:WATTS:\n",
    "data_2['ID_INPUT'].value_counts()"
   ]
  },
  {
   "cell_type": "code",
   "execution_count": 13,
   "metadata": {},
   "outputs": [
    {
     "data": {
      "text/html": [
       "<div>\n",
       "<style scoped>\n",
       "    .dataframe tbody tr th:only-of-type {\n",
       "        vertical-align: middle;\n",
       "    }\n",
       "\n",
       "    .dataframe tbody tr th {\n",
       "        vertical-align: top;\n",
       "    }\n",
       "\n",
       "    .dataframe thead th {\n",
       "        text-align: right;\n",
       "    }\n",
       "</style>\n",
       "<table border=\"1\" class=\"dataframe\">\n",
       "  <thead>\n",
       "    <tr style=\"text-align: right;\">\n",
       "      <th></th>\n",
       "      <th>MEASUREMENT_TIME</th>\n",
       "      <th>ID_INPUT</th>\n",
       "      <th>VALUE</th>\n",
       "      <th>PRIVATE_DATA</th>\n",
       "    </tr>\n",
       "  </thead>\n",
       "  <tbody>\n",
       "    <tr>\n",
       "      <th>0</th>\n",
       "      <td>2020-11-07 00:51:22.229</td>\n",
       "      <td>7</td>\n",
       "      <td>-19725.0</td>\n",
       "      <td>1</td>\n",
       "    </tr>\n",
       "    <tr>\n",
       "      <th>1</th>\n",
       "      <td>2020-11-07 00:51:23.228</td>\n",
       "      <td>7</td>\n",
       "      <td>-19319.0</td>\n",
       "      <td>1</td>\n",
       "    </tr>\n",
       "    <tr>\n",
       "      <th>2</th>\n",
       "      <td>2020-11-07 00:51:25.226</td>\n",
       "      <td>7</td>\n",
       "      <td>-19813.0</td>\n",
       "      <td>1</td>\n",
       "    </tr>\n",
       "    <tr>\n",
       "      <th>3</th>\n",
       "      <td>2020-11-07 00:51:26.225</td>\n",
       "      <td>7</td>\n",
       "      <td>-19846.0</td>\n",
       "      <td>1</td>\n",
       "    </tr>\n",
       "    <tr>\n",
       "      <th>4</th>\n",
       "      <td>2020-11-07 00:51:27.225</td>\n",
       "      <td>7</td>\n",
       "      <td>-19807.0</td>\n",
       "      <td>1</td>\n",
       "    </tr>\n",
       "  </tbody>\n",
       "</table>\n",
       "</div>"
      ],
      "text/plain": [
       "          MEASUREMENT_TIME  ID_INPUT    VALUE  PRIVATE_DATA\n",
       "0  2020-11-07 00:51:22.229         7 -19725.0             1\n",
       "1  2020-11-07 00:51:23.228         7 -19319.0             1\n",
       "2  2020-11-07 00:51:25.226         7 -19813.0             1\n",
       "3  2020-11-07 00:51:26.225         7 -19846.0             1\n",
       "4  2020-11-07 00:51:27.225         7 -19807.0             1"
      ]
     },
     "execution_count": 13,
     "metadata": {},
     "output_type": "execute_result"
    }
   ],
   "source": [
    "# All the \"VALUE(s)\" presented when ID_INPUT is 7.\n",
    "charge_discharge = data_2.loc[(data_2['ID_INPUT'] == 7)]\n",
    "charge_discharge.head()"
   ]
  },
  {
   "cell_type": "markdown",
   "metadata": {},
   "source": [
    "### We would also use the line chart to see the change of values"
   ]
  },
  {
   "cell_type": "code",
   "execution_count": 14,
   "metadata": {},
   "outputs": [
    {
     "data": {
      "image/png": "[encoded data removed]",
      "text/plain": [
       "<Figure size 432x288 with 1 Axes>"
      ]
     },
     "metadata": {
      "needs_background": "light"
     },
     "output_type": "display_data"
    }
   ],
   "source": [
    "x = charge_discharge['MEASUREMENT_TIME']\n",
    "y = charge_discharge['VALUE']\n",
    "plt.plot(x,y)\n",
    "plt.title('Changes of charge_discharge_rate')\n",
    "plt.xlabel('time')\n",
    "plt.ylabel('rate(mW)')\n",
    "plt.show()"
   ]
  },
  {
   "cell_type": "markdown",
   "metadata": {},
   "source": [
    "#### Conslusion: We think that since we didn't charge the laptop when collecting the data, the charge_discharge_rate would be negative. Also since we opened and closed several applications during the measurement time, the value of charge_discharge_rate changes inrregularly. "
   ]
  },
  {
   "cell_type": "markdown",
   "metadata": {},
   "source": [
    "### Then, we use the system_power_in_dc to see what are the values for this part if we didn't charge our laptop when collecting the data"
   ]
  },
  {
   "cell_type": "code",
   "execution_count": 15,
   "metadata": {},
   "outputs": [
    {
     "data": {
      "text/html": [
       "<div>\n",
       "<style scoped>\n",
       "    .dataframe tbody tr th:only-of-type {\n",
       "        vertical-align: middle;\n",
       "    }\n",
       "\n",
       "    .dataframe tbody tr th {\n",
       "        vertical-align: top;\n",
       "    }\n",
       "\n",
       "    .dataframe thead th {\n",
       "        text-align: right;\n",
       "    }\n",
       "</style>\n",
       "<table border=\"1\" class=\"dataframe\">\n",
       "  <thead>\n",
       "    <tr style=\"text-align: right;\">\n",
       "      <th></th>\n",
       "      <th>MEASUREMENT_TIME</th>\n",
       "      <th>ID_INPUT</th>\n",
       "      <th>VALUE</th>\n",
       "      <th>PRIVATE_DATA</th>\n",
       "    </tr>\n",
       "  </thead>\n",
       "  <tbody>\n",
       "    <tr>\n",
       "      <th>5</th>\n",
       "      <td>2020-11-07 00:51:28.225</td>\n",
       "      <td>10</td>\n",
       "      <td>0.0</td>\n",
       "      <td>0</td>\n",
       "    </tr>\n",
       "    <tr>\n",
       "      <th>9</th>\n",
       "      <td>2020-11-07 00:51:34.223</td>\n",
       "      <td>10</td>\n",
       "      <td>0.0</td>\n",
       "      <td>0</td>\n",
       "    </tr>\n",
       "    <tr>\n",
       "      <th>13</th>\n",
       "      <td>2020-11-07 00:51:41.221</td>\n",
       "      <td>10</td>\n",
       "      <td>0.0</td>\n",
       "      <td>0</td>\n",
       "    </tr>\n",
       "    <tr>\n",
       "      <th>16</th>\n",
       "      <td>2020-11-07 00:51:46.217</td>\n",
       "      <td>10</td>\n",
       "      <td>0.0</td>\n",
       "      <td>0</td>\n",
       "    </tr>\n",
       "    <tr>\n",
       "      <th>21</th>\n",
       "      <td>2020-11-07 00:51:53.217</td>\n",
       "      <td>10</td>\n",
       "      <td>0.0</td>\n",
       "      <td>0</td>\n",
       "    </tr>\n",
       "  </tbody>\n",
       "</table>\n",
       "</div>"
      ],
      "text/plain": [
       "           MEASUREMENT_TIME  ID_INPUT  VALUE  PRIVATE_DATA\n",
       "5   2020-11-07 00:51:28.225        10    0.0             0\n",
       "9   2020-11-07 00:51:34.223        10    0.0             0\n",
       "13  2020-11-07 00:51:41.221        10    0.0             0\n",
       "16  2020-11-07 00:51:46.217        10    0.0             0\n",
       "21  2020-11-07 00:51:53.217        10    0.0             0"
      ]
     },
     "execution_count": 15,
     "metadata": {},
     "output_type": "execute_result"
    }
   ],
   "source": [
    "# All the \"VALUE(s)\" presented when ID_INPUT is 10.\n",
    "system_power = data_2.loc[(data_2['ID_INPUT'] == 10)]\n",
    "system_power.head()"
   ]
  },
  {
   "cell_type": "code",
   "execution_count": 16,
   "metadata": {},
   "outputs": [
    {
     "data": {
      "image/png": "[encoded data removed]",
      "text/plain": [
       "<Figure size 432x288 with 1 Axes>"
      ]
     },
     "metadata": {
      "needs_background": "light"
     },
     "output_type": "display_data"
    }
   ],
   "source": [
    "x = system_power['MEASUREMENT_TIME']\n",
    "y = system_power['VALUE']\n",
    "plt.plot(x,y)\n",
    "plt.title('Changes of System_power_in_DC')\n",
    "plt.xlabel('time')\n",
    "plt.ylabel('value')\n",
    "plt.show()"
   ]
  },
  {
   "cell_type": "markdown",
   "metadata": {},
   "source": [
    "#### Conclusion: As we can see from the above chart, the system_power_in_dc has changed between 0 and over a hundred ..."
   ]
  },
  {
   "cell_type": "code",
   "execution_count": 17,
   "metadata": {},
   "outputs": [
    {
     "data": {
      "text/plain": [
       "MEASUREMENT_TIME    2020-11-07 01:45:30.191\n",
       "ID_INPUT                                  7\n",
       "VALUE                                -15621\n",
       "PRIVATE_DATA                              1\n",
       "dtype: object"
      ]
     },
     "execution_count": 17,
     "metadata": {},
     "output_type": "execute_result"
    }
   ],
   "source": [
    "# Max value when ID_INPUT is 7\n",
    "    # Max value : -15621\n",
    "data_2.loc[(data_2['ID_INPUT'] == 7)].max()"
   ]
  },
  {
   "cell_type": "code",
   "execution_count": 18,
   "metadata": {},
   "outputs": [
    {
     "data": {
      "text/plain": [
       "MEASUREMENT_TIME    2020-11-07 00:51:22.229\n",
       "ID_INPUT                                  7\n",
       "VALUE                                -25405\n",
       "PRIVATE_DATA                              1\n",
       "dtype: object"
      ]
     },
     "execution_count": 18,
     "metadata": {},
     "output_type": "execute_result"
    }
   ],
   "source": [
    "# Min value when ID_INPUT is 7\n",
    "    # Min value : -25405\n",
    "data_2.loc[(data_2['ID_INPUT'] == 7)].min()"
   ]
  },
  {
   "cell_type": "code",
   "execution_count": 19,
   "metadata": {},
   "outputs": [
    {
     "data": {
      "text/plain": [
       "MEASUREMENT_TIME    2020-11-07 01:45:28.193\n",
       "ID_INPUT                                 10\n",
       "VALUE                               288.185\n",
       "PRIVATE_DATA                              0\n",
       "dtype: object"
      ]
     },
     "execution_count": 19,
     "metadata": {},
     "output_type": "execute_result"
    }
   ],
   "source": [
    "# Max value when ID_INPUT is 10\n",
    "    # Max value : 288.185\n",
    "data_2.loc[(data_2['ID_INPUT'] == 10)].max()"
   ]
  },
  {
   "cell_type": "code",
   "execution_count": 20,
   "metadata": {},
   "outputs": [
    {
     "data": {
      "text/plain": [
       "MEASUREMENT_TIME    2020-11-07 00:51:28.225\n",
       "ID_INPUT                                 10\n",
       "VALUE                                     0\n",
       "PRIVATE_DATA                              0\n",
       "dtype: object"
      ]
     },
     "execution_count": 20,
     "metadata": {},
     "output_type": "execute_result"
    }
   ],
   "source": [
    "# Min value when ID_INPUT is 10\n",
    "    # Min value : 0\n",
    "data_2.loc[(data_2['ID_INPUT'] == 10)].min()"
   ]
  },
  {
   "cell_type": "markdown",
   "metadata": {},
   "source": [
    "# Checkpoint #1 Code for DEVICE USE:\n"
   ]
  },
  {
   "cell_type": "code",
   "execution_count": 21,
   "metadata": {},
   "outputs": [
    {
     "data": {
      "text/html": [
       "<div>\n",
       "<style scoped>\n",
       "    .dataframe tbody tr th:only-of-type {\n",
       "        vertical-align: middle;\n",
       "    }\n",
       "\n",
       "    .dataframe tbody tr th {\n",
       "        vertical-align: top;\n",
       "    }\n",
       "\n",
       "    .dataframe thead th {\n",
       "        text-align: right;\n",
       "    }\n",
       "</style>\n",
       "<table border=\"1\" class=\"dataframe\">\n",
       "  <thead>\n",
       "    <tr style=\"text-align: right;\">\n",
       "      <th></th>\n",
       "      <th>MEASUREMENT_TIME</th>\n",
       "      <th>ID_INPUT</th>\n",
       "      <th>VALUE</th>\n",
       "      <th>PRIVATE_DATA</th>\n",
       "    </tr>\n",
       "  </thead>\n",
       "  <tbody>\n",
       "    <tr>\n",
       "      <th>0</th>\n",
       "      <td>2020-11-07 01:50:13.775</td>\n",
       "      <td>3</td>\n",
       "      <td>4</td>\n",
       "      <td>1</td>\n",
       "    </tr>\n",
       "    <tr>\n",
       "      <th>1</th>\n",
       "      <td>2020-11-07 01:50:13.775</td>\n",
       "      <td>3</td>\n",
       "      <td>4</td>\n",
       "      <td>2</td>\n",
       "    </tr>\n",
       "    <tr>\n",
       "      <th>2</th>\n",
       "      <td>2020-11-07 01:50:13.775</td>\n",
       "      <td>3</td>\n",
       "      <td>4</td>\n",
       "      <td>3</td>\n",
       "    </tr>\n",
       "    <tr>\n",
       "      <th>3</th>\n",
       "      <td>2020-11-07 01:50:13.775</td>\n",
       "      <td>3</td>\n",
       "      <td>4</td>\n",
       "      <td>4</td>\n",
       "    </tr>\n",
       "    <tr>\n",
       "      <th>4</th>\n",
       "      <td>2020-11-07 01:50:13.775</td>\n",
       "      <td>3</td>\n",
       "      <td>4</td>\n",
       "      <td>5</td>\n",
       "    </tr>\n",
       "    <tr>\n",
       "      <th>5</th>\n",
       "      <td>2020-11-07 01:50:13.775</td>\n",
       "      <td>3</td>\n",
       "      <td>4</td>\n",
       "      <td>6</td>\n",
       "    </tr>\n",
       "    <tr>\n",
       "      <th>6</th>\n",
       "      <td>2020-11-07 01:50:13.775</td>\n",
       "      <td>3</td>\n",
       "      <td>4</td>\n",
       "      <td>7</td>\n",
       "    </tr>\n",
       "    <tr>\n",
       "      <th>7</th>\n",
       "      <td>2020-11-07 01:50:13.775</td>\n",
       "      <td>3</td>\n",
       "      <td>4</td>\n",
       "      <td>8</td>\n",
       "    </tr>\n",
       "    <tr>\n",
       "      <th>8</th>\n",
       "      <td>2020-11-07 01:50:13.775</td>\n",
       "      <td>3</td>\n",
       "      <td>4</td>\n",
       "      <td>9</td>\n",
       "    </tr>\n",
       "    <tr>\n",
       "      <th>9</th>\n",
       "      <td>2020-11-07 01:50:13.775</td>\n",
       "      <td>3</td>\n",
       "      <td>4</td>\n",
       "      <td>10</td>\n",
       "    </tr>\n",
       "  </tbody>\n",
       "</table>\n",
       "</div>"
      ],
      "text/plain": [
       "          MEASUREMENT_TIME  ID_INPUT  VALUE  PRIVATE_DATA\n",
       "0  2020-11-07 01:50:13.775         3      4             1\n",
       "1  2020-11-07 01:50:13.775         3      4             2\n",
       "2  2020-11-07 01:50:13.775         3      4             3\n",
       "3  2020-11-07 01:50:13.775         3      4             4\n",
       "4  2020-11-07 01:50:13.775         3      4             5\n",
       "5  2020-11-07 01:50:13.775         3      4             6\n",
       "6  2020-11-07 01:50:13.775         3      4             7\n",
       "7  2020-11-07 01:50:13.775         3      4             8\n",
       "8  2020-11-07 01:50:13.775         3      4             9\n",
       "9  2020-11-07 01:50:13.775         3      4            10"
      ]
     },
     "execution_count": 21,
     "metadata": {},
     "output_type": "execute_result"
    }
   ],
   "source": [
    "# Real Numbers for VALUES\n",
    "du_data.head(10)"
   ]
  },
  {
   "cell_type": "code",
   "execution_count": 22,
   "metadata": {},
   "outputs": [
    {
     "data": {
      "text/html": [
       "<div>\n",
       "<style scoped>\n",
       "    .dataframe tbody tr th:only-of-type {\n",
       "        vertical-align: middle;\n",
       "    }\n",
       "\n",
       "    .dataframe tbody tr th {\n",
       "        vertical-align: top;\n",
       "    }\n",
       "\n",
       "    .dataframe thead th {\n",
       "        text-align: right;\n",
       "    }\n",
       "</style>\n",
       "<table border=\"1\" class=\"dataframe\">\n",
       "  <thead>\n",
       "    <tr style=\"text-align: right;\">\n",
       "      <th></th>\n",
       "      <th>MEASUREMENT_TIME</th>\n",
       "      <th>ID_INPUT</th>\n",
       "      <th>VALUE</th>\n",
       "      <th>PRIVATE_DATA</th>\n",
       "    </tr>\n",
       "  </thead>\n",
       "  <tbody>\n",
       "    <tr>\n",
       "      <th>0</th>\n",
       "      <td>2020-11-07 01:50:13.775</td>\n",
       "      <td>0</td>\n",
       "      <td>GUID_DEVINTERFACE_DISPLAY_ADAPTER</td>\n",
       "      <td>1</td>\n",
       "    </tr>\n",
       "    <tr>\n",
       "      <th>1</th>\n",
       "      <td>2020-11-07 01:50:13.775</td>\n",
       "      <td>1</td>\n",
       "      <td>ROOT\\BasicDisplay</td>\n",
       "      <td>1</td>\n",
       "    </tr>\n",
       "    <tr>\n",
       "      <th>2</th>\n",
       "      <td>2020-11-07 01:50:13.775</td>\n",
       "      <td>2</td>\n",
       "      <td>Microsoft Basic Display Driver</td>\n",
       "      <td>1</td>\n",
       "    </tr>\n",
       "    <tr>\n",
       "      <th>3</th>\n",
       "      <td>2020-11-07 01:50:13.775</td>\n",
       "      <td>0</td>\n",
       "      <td>GUID_DEVINTERFACE_DISPLAY_ADAPTER</td>\n",
       "      <td>2</td>\n",
       "    </tr>\n",
       "    <tr>\n",
       "      <th>4</th>\n",
       "      <td>2020-11-07 01:50:13.775</td>\n",
       "      <td>1</td>\n",
       "      <td>PCI\\VEN_8086&amp;DEV_8A52&amp;SUBSYS_385217AA&amp;REV_07</td>\n",
       "      <td>2</td>\n",
       "    </tr>\n",
       "    <tr>\n",
       "      <th>5</th>\n",
       "      <td>2020-11-07 01:50:13.775</td>\n",
       "      <td>2</td>\n",
       "      <td>Intel(R) Iris(R) Plus Graphics</td>\n",
       "      <td>2</td>\n",
       "    </tr>\n",
       "    <tr>\n",
       "      <th>6</th>\n",
       "      <td>2020-11-07 01:50:13.775</td>\n",
       "      <td>0</td>\n",
       "      <td>GUID_DEVINTERFACE_MONITOR</td>\n",
       "      <td>3</td>\n",
       "    </tr>\n",
       "    <tr>\n",
       "      <th>7</th>\n",
       "      <td>2020-11-07 01:50:13.775</td>\n",
       "      <td>1</td>\n",
       "      <td>MONITOR\\BOE06F2</td>\n",
       "      <td>3</td>\n",
       "    </tr>\n",
       "    <tr>\n",
       "      <th>8</th>\n",
       "      <td>2020-11-07 01:50:13.775</td>\n",
       "      <td>2</td>\n",
       "      <td>Generic PnP Monitor</td>\n",
       "      <td>3</td>\n",
       "    </tr>\n",
       "    <tr>\n",
       "      <th>9</th>\n",
       "      <td>2020-11-07 01:50:13.775</td>\n",
       "      <td>0</td>\n",
       "      <td>GUID_DISPLAY_DEVICE_ARRIVAL</td>\n",
       "      <td>4</td>\n",
       "    </tr>\n",
       "  </tbody>\n",
       "</table>\n",
       "</div>"
      ],
      "text/plain": [
       "          MEASUREMENT_TIME  ID_INPUT  \\\n",
       "0  2020-11-07 01:50:13.775         0   \n",
       "1  2020-11-07 01:50:13.775         1   \n",
       "2  2020-11-07 01:50:13.775         2   \n",
       "3  2020-11-07 01:50:13.775         0   \n",
       "4  2020-11-07 01:50:13.775         1   \n",
       "5  2020-11-07 01:50:13.775         2   \n",
       "6  2020-11-07 01:50:13.775         0   \n",
       "7  2020-11-07 01:50:13.775         1   \n",
       "8  2020-11-07 01:50:13.775         2   \n",
       "9  2020-11-07 01:50:13.775         0   \n",
       "\n",
       "                                          VALUE  PRIVATE_DATA  \n",
       "0             GUID_DEVINTERFACE_DISPLAY_ADAPTER             1  \n",
       "1                             ROOT\\BasicDisplay             1  \n",
       "2                Microsoft Basic Display Driver             1  \n",
       "3             GUID_DEVINTERFACE_DISPLAY_ADAPTER             2  \n",
       "4  PCI\\VEN_8086&DEV_8A52&SUBSYS_385217AA&REV_07             2  \n",
       "5                Intel(R) Iris(R) Plus Graphics             2  \n",
       "6                     GUID_DEVINTERFACE_MONITOR             3  \n",
       "7                               MONITOR\\BOE06F2             3  \n",
       "8                           Generic PnP Monitor             3  \n",
       "9                   GUID_DISPLAY_DEVICE_ARRIVAL             4  "
      ]
     },
     "execution_count": 22,
     "metadata": {},
     "output_type": "execute_result"
    }
   ],
   "source": [
    "# Strings for VALUES\n",
    "du_data_2.head(10)"
   ]
  },
  {
   "cell_type": "code",
   "execution_count": 23,
   "metadata": {},
   "outputs": [
    {
     "data": {
      "text/plain": [
       "3    39\n",
       "Name: ID_INPUT, dtype: int64"
      ]
     },
     "execution_count": 23,
     "metadata": {},
     "output_type": "execute_result"
    }
   ],
   "source": [
    "# Device Use Data Demographic\n",
    "    # 3 : Device Status\n",
    "du_data[\"ID_INPUT\"].value_counts()"
   ]
  },
  {
   "cell_type": "code",
   "execution_count": 24,
   "metadata": {},
   "outputs": [
    {
     "data": {
      "text/plain": [
       "2    39\n",
       "1    39\n",
       "0    39\n",
       "Name: ID_INPUT, dtype: int64"
      ]
     },
     "execution_count": 24,
     "metadata": {},
     "output_type": "execute_result"
    }
   ],
   "source": [
    "# Device Use Data Demographic\n",
    "    # 0 : Device Guide\n",
    "    # 1 : Device HW Name\n",
    "    # 2 : Device Friendly Name\n",
    "du_data_2['ID_INPUT'].value_counts()"
   ]
  },
  {
   "cell_type": "code",
   "execution_count": null,
   "metadata": {},
   "outputs": [],
   "source": [
    "\"\"\"----------------------------------------------------------------------------------------------------------------\"\"\""
   ]
  },
  {
   "cell_type": "markdown",
   "metadata": {},
   "source": [
    "# Contributions:\n",
    "\n",
    "Keshan:\n",
    "    - data preparation\n",
    "    - tabled data\n",
    "    - key notes all throughout notebook\n",
    "    - graphs + graph analysis\n",
    "\n",
    "Jon:\n",
    "    - Report + main ideas\n",
    "    - data analysis - code breakdown\n",
    "    - repository structuring\n",
    "    - notebook outlining\n"
   ]
  }
 ],
 "metadata": {
  "kernelspec": {
   "display_name": "Python 3",
   "language": "python",
   "name": "python3"
  },
  "language_info": {
   "codemirror_mode": {
    "name": "ipython",
    "version": 3
   },
   "file_extension": ".py",
   "mimetype": "text/x-python",
   "name": "python",
   "nbconvert_exporter": "python",
   "pygments_lexer": "ipython3",
   "version": "3.8.1"
  }
 },
 "nbformat": 4,
 "nbformat_minor": 4
}
